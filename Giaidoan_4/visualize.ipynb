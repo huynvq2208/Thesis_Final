{
 "cells": [
  {
   "cell_type": "code",
   "execution_count": 1,
   "metadata": {},
   "outputs": [],
   "source": [
    "import pandas as pd\n",
    "from IPython.display import display, HTML"
   ]
  },
  {
   "cell_type": "code",
   "execution_count": 2,
   "metadata": {},
   "outputs": [],
   "source": [
    "df_result = pd.read_csv('users_resources_number.csv')"
   ]
  },
  {
   "cell_type": "code",
   "execution_count": 46,
   "metadata": {},
   "outputs": [],
   "source": [
    "chart_data = [['Resources', 'User Count', {'role': 'annotation'}]]\n",
    "chart_data += [[row['resources'], row['user_count'], str(row['user_count'])] for index, row in df_result.iterrows()]\n"
   ]
  },
  {
   "cell_type": "code",
   "execution_count": 47,
   "metadata": {},
   "outputs": [],
   "source": [
    "html = f\"\"\"\n",
    "<!DOCTYPE html>\n",
    "<html>\n",
    "  <head>\n",
    "    <script type=\"text/javascript\" src=\"https://www.gstatic.com/charts/loader.js\"></script>\n",
    "    <script type=\"text/javascript\">\n",
    "      google.charts.load('current', {{packages: ['corechart', 'bar']}});\n",
    "      google.charts.setOnLoadCallback(drawChart);\n",
    "\n",
    "      function drawChart() {{\n",
    "        var data = google.visualization.arrayToDataTable({chart_data});\n",
    "\n",
    "        var options = {{\n",
    "          title: 'Distribution of Users by Number of Resources Watched',\n",
    "          hAxis: {{\n",
    "            title: 'Number of Resources Watched',\n",
    "            minValue: 0,\n",
    "            ticks: [0, 5, 10, 15, 20, 25, 30, 35, 40, 45,  50, 55, 60]\n",
    "          }},\n",
    "          vAxis: {{\n",
    "            title: 'Number of Users'\n",
    "          }},\n",
    "          legend: {{ position: 'none' }},\n",
    "          annotations: {{\n",
    "            alwaysOutside: true,\n",
    "            textStyle: {{\n",
    "              fontSize: 12,\n",
    "              auraColor: 'none',\n",
    "              color: '#555'\n",
    "            }},\n",
    "            stem: {{\n",
    "              color: 'none',\n",
    "              length: 2\n",
    "            }}\n",
    "          }}\n",
    "        }};\n",
    "\n",
    "        var chart = new google.visualization.ColumnChart(document.getElementById('chart_div'));\n",
    "        chart.draw(data, options);\n",
    "      }}\n",
    "    </script>\n",
    "  </head>\n",
    "  <body>\n",
    "    <div id=\"chart_div\" style=\"width: 1300px; height: 800px;\"></div>\n",
    "  </body>\n",
    "</html>\n",
    "\"\"\""
   ]
  },
  {
   "cell_type": "code",
   "execution_count": 48,
   "metadata": {},
   "outputs": [
    {
     "data": {
      "text/html": [
       "\n",
       "<!DOCTYPE html>\n",
       "<html>\n",
       "  <head>\n",
       "    <script type=\"text/javascript\" src=\"https://www.gstatic.com/charts/loader.js\"></script>\n",
       "    <script type=\"text/javascript\">\n",
       "      google.charts.load('current', {packages: ['corechart', 'bar']});\n",
       "      google.charts.setOnLoadCallback(drawChart);\n",
       "\n",
       "      function drawChart() {\n",
       "        var data = google.visualization.arrayToDataTable([['Resources', 'User Count', {'role': 'annotation'}], [2, 433, '433'], [3, 293, '293'], [4, 182, '182'], [5, 134, '134'], [6, 99, '99'], [7, 72, '72'], [8, 54, '54'], [9, 44, '44'], [10, 38, '38'], [11, 35, '35'], [12, 32, '32'], [13, 14, '14'], [14, 17, '17'], [15, 15, '15'], [16, 4, '4'], [17, 11, '11'], [18, 7, '7'], [19, 11, '11'], [20, 8, '8'], [21, 9, '9'], [22, 8, '8'], [23, 5, '5'], [24, 2, '2'], [25, 4, '4'], [26, 7, '7'], [27, 5, '5'], [28, 4, '4'], [30, 1, '1'], [31, 4, '4'], [33, 1, '1'], [34, 2, '2'], [37, 1, '1'], [40, 1, '1'], [46, 2, '2'], [47, 1, '1'], [48, 1, '1'], [49, 1, '1'], [54, 1, '1']]);\n",
       "\n",
       "        var options = {\n",
       "          title: 'Distribution of Users by Number of Resources Watched',\n",
       "          hAxis: {\n",
       "            title: 'Number of Resources Watched',\n",
       "            minValue: 0,\n",
       "            ticks: [0, 5, 10, 15, 20, 25, 30, 35, 40, 45,  50, 55, 60]\n",
       "          },\n",
       "          vAxis: {\n",
       "            title: 'Number of Users'\n",
       "          },\n",
       "          legend: { position: 'none' },\n",
       "          annotations: {\n",
       "            alwaysOutside: true,\n",
       "            textStyle: {\n",
       "              fontSize: 12,\n",
       "              auraColor: 'none',\n",
       "              color: '#555'\n",
       "            },\n",
       "            stem: {\n",
       "              color: 'none',\n",
       "              length: 2\n",
       "            }\n",
       "          }\n",
       "        };\n",
       "\n",
       "        var chart = new google.visualization.ColumnChart(document.getElementById('chart_div'));\n",
       "        chart.draw(data, options);\n",
       "      }\n",
       "    </script>\n",
       "  </head>\n",
       "  <body>\n",
       "    <div id=\"chart_div\" style=\"width: 1300px; height: 800px;\"></div>\n",
       "  </body>\n",
       "</html>\n"
      ],
      "text/plain": [
       "<IPython.core.display.HTML object>"
      ]
     },
     "metadata": {},
     "output_type": "display_data"
    }
   ],
   "source": [
    "display(HTML(html))"
   ]
  }
 ],
 "metadata": {
  "kernelspec": {
   "display_name": "Python 3",
   "language": "python",
   "name": "python3"
  },
  "language_info": {
   "codemirror_mode": {
    "name": "ipython",
    "version": 3
   },
   "file_extension": ".py",
   "mimetype": "text/x-python",
   "name": "python",
   "nbconvert_exporter": "python",
   "pygments_lexer": "ipython3",
   "version": "3.11.5"
  }
 },
 "nbformat": 4,
 "nbformat_minor": 2
}
